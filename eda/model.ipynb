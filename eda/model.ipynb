{
 "cells": [
  {
   "cell_type": "code",
   "execution_count": null,
   "metadata": {},
   "outputs": [],
   "source": [
    "import gc\n",
    "import os\n",
    "\n",
    "import pandas as pd\n",
    "import numpy as np\n",
    "\n",
    "import xgboost as xgb\n",
    "from sklearn.model_selection import train_test_split\n",
    "from sklearn.metrics import f1_score, confusion_matrix, classification_report\n",
    "\n",
    "random_state = 42"
   ]
  },
  {
   "cell_type": "code",
   "execution_count": null,
   "metadata": {},
   "outputs": [
    {
     "name": "stdout",
     "output_type": "stream",
     "text": [
      "c:\\Users\\erich\\Desktop\\HYU\\신용카드 고객 세그먼트 분류 공모전\\eda\n"
     ]
    }
   ],
   "source": [
    "print(os.getcwd())"
   ]
  },
  {
   "cell_type": "markdown",
   "metadata": {},
   "source": [
    "# A,B/C,D,E"
   ]
  },
  {
   "cell_type": "code",
   "execution_count": null,
   "metadata": {},
   "outputs": [
    {
     "data": {
      "text/plain": [
       "0"
      ]
     },
     "execution_count": 3,
     "metadata": {},
     "output_type": "execute_result"
    }
   ],
   "source": [
    "# train_set 준비\n",
    "\n",
    "months = [7, 8, 9, 10, 11, 12]\n",
    "\n",
    "trains = []\n",
    "\n",
    "drop_columns = [\n",
    "    'ID',\n",
    "    'index',\n",
    "    '기준년월',\n",
    "    # '상품관련면제카드수_B0M',\n",
    "    # '임직원면제카드수_B0M',\n",
    "    # '우수회원면제카드수_B0M',\n",
    "    # '기타면제카드수_B0M',\n",
    "    '카드신청건수',\n",
    "    '이용금액_R3M_체크',\n",
    "    '이용금액_R3M_체크_가족',\n",
    "    '유효카드수_체크',\n",
    "    '유효카드수_체크_가족',\n",
    "    '이용가능카드수_체크',\n",
    "    '이용가능카드수_체크_가족',\n",
    "    '이용카드수_체크',\n",
    "    '이용카드수_체크_가족',\n",
    "    '연회비발생카드수_B0M',\n",
    "    '연회비할인카드수_B0M',\n",
    "    '기본연회비_B0M',\n",
    "    '제휴연회비_B0M',\n",
    "    '할인금액_기본연회비_B0M',\n",
    "    '할인금액_제휴연회비_B0M',\n",
    "    '청구금액_기본연회비_B0M',\n",
    "    '청구금액_제휴연회비_B0M',\n",
    "    '캠페인접촉건수_R12M',\n",
    "    '캠페인접촉일수_R12M'\n",
    "]\n",
    "\n",
    "for month in months:\n",
    "    # train = pd.read_parquet(f\"../data/train/1.회원정보/2018{month:02}_train_회원정보.parquet\")\n",
    "    # test = pd.read_parquet(f\"../data/test/1.회원정보/2018{month:02}_test_회원정보.parquet\")\n",
    "    # customers.append(pd.concat([train, test], ignore_index=True))\n",
    "    \n",
    "    temp = pd.read_parquet(f\"../data/train_preprocessed/train_preprocessed/2018{month:02}_train.parquet\")\n",
    "    temp[\"Segment\"] = ((temp['Segment_A'] == 1) | (temp['Segment_B'] == 1)).astype(int)\n",
    "    temp.drop([f\"Segment_{a}\" for a in \"ABCDE\"], axis=1, inplace=True)\n",
    "    \n",
    "    temp.drop(drop_columns, axis=1, inplace=True)\n",
    "\n",
    "    trains.append(temp)\n",
    "    \n",
    "del temp\n",
    "gc.collect()"
   ]
  },
  {
   "cell_type": "code",
   "execution_count": 4,
   "metadata": {},
   "outputs": [
    {
     "name": "stdout",
     "output_type": "stream",
     "text": [
      "===== Macro F1 Score =====\n"
     ]
    },
    {
     "name": "stderr",
     "output_type": "stream",
     "text": [
      "c:\\Users\\erich\\anaconda3\\envs\\CustomerSegment\\lib\\site-packages\\xgboost\\core.py:158: UserWarning: [02:23:53] WARNING: D:\\bld\\xgboost-split_1742444198260\\work\\src\\learner.cc:740: \n",
      "Parameters: { \"use_label_encoder\" } are not used.\n",
      "\n",
      "  warnings.warn(smsg, UserWarning)\n"
     ]
    },
    {
     "name": "stdout",
     "output_type": "stream",
     "text": [
      "07 : 0.67633\n"
     ]
    },
    {
     "name": "stderr",
     "output_type": "stream",
     "text": [
      "c:\\Users\\erich\\anaconda3\\envs\\CustomerSegment\\lib\\site-packages\\xgboost\\core.py:158: UserWarning: [02:24:35] WARNING: D:\\bld\\xgboost-split_1742444198260\\work\\src\\learner.cc:740: \n",
      "Parameters: { \"use_label_encoder\" } are not used.\n",
      "\n",
      "  warnings.warn(smsg, UserWarning)\n"
     ]
    },
    {
     "name": "stdout",
     "output_type": "stream",
     "text": [
      "08 : 0.64272\n"
     ]
    },
    {
     "name": "stderr",
     "output_type": "stream",
     "text": [
      "c:\\Users\\erich\\anaconda3\\envs\\CustomerSegment\\lib\\site-packages\\xgboost\\core.py:158: UserWarning: [02:25:19] WARNING: D:\\bld\\xgboost-split_1742444198260\\work\\src\\learner.cc:740: \n",
      "Parameters: { \"use_label_encoder\" } are not used.\n",
      "\n",
      "  warnings.warn(smsg, UserWarning)\n"
     ]
    },
    {
     "name": "stdout",
     "output_type": "stream",
     "text": [
      "09 : 0.65611\n"
     ]
    },
    {
     "name": "stderr",
     "output_type": "stream",
     "text": [
      "c:\\Users\\erich\\anaconda3\\envs\\CustomerSegment\\lib\\site-packages\\xgboost\\core.py:158: UserWarning: [02:26:03] WARNING: D:\\bld\\xgboost-split_1742444198260\\work\\src\\learner.cc:740: \n",
      "Parameters: { \"use_label_encoder\" } are not used.\n",
      "\n",
      "  warnings.warn(smsg, UserWarning)\n"
     ]
    },
    {
     "name": "stdout",
     "output_type": "stream",
     "text": [
      "10 : 0.60277\n"
     ]
    },
    {
     "name": "stderr",
     "output_type": "stream",
     "text": [
      "c:\\Users\\erich\\anaconda3\\envs\\CustomerSegment\\lib\\site-packages\\xgboost\\core.py:158: UserWarning: [02:26:52] WARNING: D:\\bld\\xgboost-split_1742444198260\\work\\src\\learner.cc:740: \n",
      "Parameters: { \"use_label_encoder\" } are not used.\n",
      "\n",
      "  warnings.warn(smsg, UserWarning)\n"
     ]
    },
    {
     "name": "stdout",
     "output_type": "stream",
     "text": [
      "11 : 0.65053\n"
     ]
    },
    {
     "name": "stderr",
     "output_type": "stream",
     "text": [
      "c:\\Users\\erich\\anaconda3\\envs\\CustomerSegment\\lib\\site-packages\\xgboost\\core.py:158: UserWarning: [02:27:37] WARNING: D:\\bld\\xgboost-split_1742444198260\\work\\src\\learner.cc:740: \n",
      "Parameters: { \"use_label_encoder\" } are not used.\n",
      "\n",
      "  warnings.warn(smsg, UserWarning)\n"
     ]
    },
    {
     "name": "stdout",
     "output_type": "stream",
     "text": [
      "12 : 0.63873\n"
     ]
    }
   ],
   "source": [
    "import pandas as pd\n",
    "from sklearn.model_selection import train_test_split\n",
    "from sklearn.metrics import f1_score\n",
    "import xgboost as xgb\n",
    "\n",
    "models = []\n",
    "y_preds = []\n",
    "idx = 7\n",
    "\n",
    "importance_df = None  # 중요도 DataFrame 초기화\n",
    "\n",
    "# 첫 번째 train으로 split 인덱스를 생성\n",
    "first_train = trains[0]\n",
    "X = first_train.drop(\"Segment\", axis=1)\n",
    "y = first_train[\"Segment\"]\n",
    "X_train_idx, X_test_idx = train_test_split(X.index, test_size=0.2, \n",
    "                                           random_state=42, stratify=y)\n",
    "\n",
    "print(\"===== Macro F1 Score =====\")\n",
    "\n",
    "# 클래스 비율에 맞춰 scale_pos_weight 설정\n",
    "# 다수 클래스: 399800, 소수 클래스: 200\n",
    "scale_pos_weight = 399800 / 200  # 1999\n",
    "\n",
    "# 모든 train에 대해 동일한 index로 나누기\n",
    "for train in trains:\n",
    "    train_X = train.drop(\"Segment\", axis=1)\n",
    "    train_y = train[\"Segment\"]\n",
    "\n",
    "    X_train = train_X.loc[X_train_idx]\n",
    "    X_test = train_X.loc[X_test_idx]\n",
    "    y_train = train_y.loc[X_train_idx]\n",
    "    y_test = train_y.loc[X_test_idx]\n",
    "\n",
    "    # XGBoost 모델 생성 (클래스 가중치 적용)\n",
    "    model = xgb.XGBClassifier(\n",
    "        objective='binary:logistic',\n",
    "        eval_metric='logloss',\n",
    "        use_label_encoder=False,\n",
    "        random_state=42,\n",
    "        scale_pos_weight=scale_pos_weight  # 클래스 가중치 추가\n",
    "    )\n",
    "\n",
    "    # 모델 학습\n",
    "    model.fit(X_train, y_train)\n",
    "\n",
    "    # 예측\n",
    "    y_pred = model.predict(X_test)\n",
    "    y_preds.append(y_pred)\n",
    "\n",
    "    # 중요도 추출\n",
    "    score_dict = model.get_booster().get_score(importance_type='gain')\n",
    "    score_series = pd.Series(score_dict, name=f'model_{idx - 6}_importance')\n",
    "\n",
    "    if importance_df is None:\n",
    "        # 첫 모델이면 기준 feature 목록 생성\n",
    "        features = model.get_booster().feature_names\n",
    "        importance_df = pd.DataFrame({'feature': features})\n",
    "\n",
    "    # Series → DataFrame으로 변환 후 merge\n",
    "    score_df = score_series.reset_index()\n",
    "    score_df.columns = ['feature', f'model_{idx - 6}_importance']\n",
    "    \n",
    "    importance_df = importance_df.merge(score_df, on='feature', how='left')\n",
    "\n",
    "    models.append(model)\n",
    "\n",
    "    # F1 점수 출력\n",
    "    score = f1_score(y_test, y_pred, average='macro')\n",
    "    print(f\"{idx:02} : {round(score, 5)}\")\n",
    "\n",
    "    idx += 1\n",
    "\n",
    "# NaN 값은 중요도 0으로 처리\n",
    "importance_df.fillna(0, inplace=True)\n",
    "\n",
    "# 중요도 총합 컬럼 추가 (선택)\n",
    "importance_df['total_importance'] = importance_df.filter(like='model_').sum(axis=1)\n",
    "\n",
    "# 정렬 (선택)\n",
    "importance_df.sort_values(by='total_importance', ascending=False, inplace=True)\n"
   ]
  },
  {
   "cell_type": "code",
   "execution_count": 5,
   "metadata": {},
   "outputs": [
    {
     "data": {
      "text/html": [
       "<div>\n",
       "<style scoped>\n",
       "    .dataframe tbody tr th:only-of-type {\n",
       "        vertical-align: middle;\n",
       "    }\n",
       "\n",
       "    .dataframe tbody tr th {\n",
       "        vertical-align: top;\n",
       "    }\n",
       "\n",
       "    .dataframe thead th {\n",
       "        text-align: right;\n",
       "    }\n",
       "</style>\n",
       "<table border=\"1\" class=\"dataframe\">\n",
       "  <thead>\n",
       "    <tr style=\"text-align: right;\">\n",
       "      <th></th>\n",
       "      <th>feature</th>\n",
       "      <th>model_1_importance</th>\n",
       "      <th>model_2_importance</th>\n",
       "      <th>model_3_importance</th>\n",
       "      <th>model_4_importance</th>\n",
       "      <th>model_5_importance</th>\n",
       "      <th>model_6_importance</th>\n",
       "      <th>total_importance</th>\n",
       "    </tr>\n",
       "  </thead>\n",
       "  <tbody>\n",
       "    <tr>\n",
       "      <th>436</th>\n",
       "      <td>정상청구원금_B5M</td>\n",
       "      <td>18128.679688</td>\n",
       "      <td>18723.419922</td>\n",
       "      <td>48670.257812</td>\n",
       "      <td>12336.747070</td>\n",
       "      <td>54623.214844</td>\n",
       "      <td>2512.173828</td>\n",
       "      <td>154994.493164</td>\n",
       "    </tr>\n",
       "    <tr>\n",
       "      <th>428</th>\n",
       "      <td>정상청구원금_B0M</td>\n",
       "      <td>255.362366</td>\n",
       "      <td>396.400360</td>\n",
       "      <td>343.075928</td>\n",
       "      <td>1354.869385</td>\n",
       "      <td>264.476532</td>\n",
       "      <td>36854.507812</td>\n",
       "      <td>39468.692383</td>\n",
       "    </tr>\n",
       "    <tr>\n",
       "      <th>432</th>\n",
       "      <td>정상청구원금_B2M</td>\n",
       "      <td>996.360046</td>\n",
       "      <td>696.197144</td>\n",
       "      <td>213.007843</td>\n",
       "      <td>19137.132812</td>\n",
       "      <td>1455.144775</td>\n",
       "      <td>278.156433</td>\n",
       "      <td>22775.999054</td>\n",
       "    </tr>\n",
       "    <tr>\n",
       "      <th>671</th>\n",
       "      <td>홈페이지_금융건수_R6M</td>\n",
       "      <td>0.290104</td>\n",
       "      <td>0.490711</td>\n",
       "      <td>0.000000</td>\n",
       "      <td>3918.966309</td>\n",
       "      <td>0.000000</td>\n",
       "      <td>3.146142</td>\n",
       "      <td>3922.893266</td>\n",
       "    </tr>\n",
       "    <tr>\n",
       "      <th>502</th>\n",
       "      <td>잔액_리볼빙CA이월_B0M</td>\n",
       "      <td>0.000000</td>\n",
       "      <td>2460.760254</td>\n",
       "      <td>0.000000</td>\n",
       "      <td>584.792725</td>\n",
       "      <td>0.000000</td>\n",
       "      <td>0.000000</td>\n",
       "      <td>3045.552979</td>\n",
       "    </tr>\n",
       "    <tr>\n",
       "      <th>...</th>\n",
       "      <td>...</td>\n",
       "      <td>...</td>\n",
       "      <td>...</td>\n",
       "      <td>...</td>\n",
       "      <td>...</td>\n",
       "      <td>...</td>\n",
       "      <td>...</td>\n",
       "      <td>...</td>\n",
       "    </tr>\n",
       "    <tr>\n",
       "      <th>461</th>\n",
       "      <td>청구서발송여부_B0</td>\n",
       "      <td>0.000000</td>\n",
       "      <td>0.000000</td>\n",
       "      <td>0.000000</td>\n",
       "      <td>0.000000</td>\n",
       "      <td>0.000000</td>\n",
       "      <td>0.000000</td>\n",
       "      <td>0.000000</td>\n",
       "    </tr>\n",
       "    <tr>\n",
       "      <th>458</th>\n",
       "      <td>승인거절건수_입력오류_R3M</td>\n",
       "      <td>0.000000</td>\n",
       "      <td>0.000000</td>\n",
       "      <td>0.000000</td>\n",
       "      <td>0.000000</td>\n",
       "      <td>0.000000</td>\n",
       "      <td>0.000000</td>\n",
       "      <td>0.000000</td>\n",
       "    </tr>\n",
       "    <tr>\n",
       "      <th>457</th>\n",
       "      <td>승인거절건수_BL_R3M</td>\n",
       "      <td>0.000000</td>\n",
       "      <td>0.000000</td>\n",
       "      <td>0.000000</td>\n",
       "      <td>0.000000</td>\n",
       "      <td>0.000000</td>\n",
       "      <td>0.000000</td>\n",
       "      <td>0.000000</td>\n",
       "    </tr>\n",
       "    <tr>\n",
       "      <th>454</th>\n",
       "      <td>승인거절건수_기타_B0M</td>\n",
       "      <td>0.000000</td>\n",
       "      <td>0.000000</td>\n",
       "      <td>0.000000</td>\n",
       "      <td>0.000000</td>\n",
       "      <td>0.000000</td>\n",
       "      <td>0.000000</td>\n",
       "      <td>0.000000</td>\n",
       "    </tr>\n",
       "    <tr>\n",
       "      <th>924</th>\n",
       "      <td>할인건수_B0M_1회 이상</td>\n",
       "      <td>0.000000</td>\n",
       "      <td>0.000000</td>\n",
       "      <td>0.000000</td>\n",
       "      <td>0.000000</td>\n",
       "      <td>0.000000</td>\n",
       "      <td>0.000000</td>\n",
       "      <td>0.000000</td>\n",
       "    </tr>\n",
       "  </tbody>\n",
       "</table>\n",
       "<p>925 rows × 8 columns</p>\n",
       "</div>"
      ],
      "text/plain": [
       "             feature  model_1_importance  model_2_importance  \\\n",
       "436       정상청구원금_B5M        18128.679688        18723.419922   \n",
       "428       정상청구원금_B0M          255.362366          396.400360   \n",
       "432       정상청구원금_B2M          996.360046          696.197144   \n",
       "671    홈페이지_금융건수_R6M            0.290104            0.490711   \n",
       "502   잔액_리볼빙CA이월_B0M            0.000000         2460.760254   \n",
       "..               ...                 ...                 ...   \n",
       "461       청구서발송여부_B0            0.000000            0.000000   \n",
       "458  승인거절건수_입력오류_R3M            0.000000            0.000000   \n",
       "457    승인거절건수_BL_R3M            0.000000            0.000000   \n",
       "454    승인거절건수_기타_B0M            0.000000            0.000000   \n",
       "924   할인건수_B0M_1회 이상            0.000000            0.000000   \n",
       "\n",
       "     model_3_importance  model_4_importance  model_5_importance  \\\n",
       "436        48670.257812        12336.747070        54623.214844   \n",
       "428          343.075928         1354.869385          264.476532   \n",
       "432          213.007843        19137.132812         1455.144775   \n",
       "671            0.000000         3918.966309            0.000000   \n",
       "502            0.000000          584.792725            0.000000   \n",
       "..                  ...                 ...                 ...   \n",
       "461            0.000000            0.000000            0.000000   \n",
       "458            0.000000            0.000000            0.000000   \n",
       "457            0.000000            0.000000            0.000000   \n",
       "454            0.000000            0.000000            0.000000   \n",
       "924            0.000000            0.000000            0.000000   \n",
       "\n",
       "     model_6_importance  total_importance  \n",
       "436         2512.173828     154994.493164  \n",
       "428        36854.507812      39468.692383  \n",
       "432          278.156433      22775.999054  \n",
       "671            3.146142       3922.893266  \n",
       "502            0.000000       3045.552979  \n",
       "..                  ...               ...  \n",
       "461            0.000000          0.000000  \n",
       "458            0.000000          0.000000  \n",
       "457            0.000000          0.000000  \n",
       "454            0.000000          0.000000  \n",
       "924            0.000000          0.000000  \n",
       "\n",
       "[925 rows x 8 columns]"
      ]
     },
     "execution_count": 5,
     "metadata": {},
     "output_type": "execute_result"
    }
   ],
   "source": [
    "importance_df"
   ]
  },
  {
   "cell_type": "code",
   "execution_count": 7,
   "metadata": {},
   "outputs": [],
   "source": [
    "importance_df.to_csv(os.path.join(os.getcwd(), \"xgb_ABvsCDE_feature_importance.csv\"), index=False)"
   ]
  },
  {
   "cell_type": "code",
   "execution_count": 6,
   "metadata": {},
   "outputs": [
    {
     "data": {
      "text/plain": [
       "'c:\\\\Users\\\\erich\\\\Desktop\\\\HYU\\\\신용카드 고객 세그먼트 분류 공모전\\\\eda'"
      ]
     },
     "execution_count": 6,
     "metadata": {},
     "output_type": "execute_result"
    }
   ],
   "source": [
    "os.getcwd()"
   ]
  },
  {
   "cell_type": "code",
   "execution_count": null,
   "metadata": {},
   "outputs": [],
   "source": []
  }
 ],
 "metadata": {
  "kernelspec": {
   "display_name": "CustomerSegment",
   "language": "python",
   "name": "python3"
  },
  "language_info": {
   "codemirror_mode": {
    "name": "ipython",
    "version": 3
   },
   "file_extension": ".py",
   "mimetype": "text/x-python",
   "name": "python",
   "nbconvert_exporter": "python",
   "pygments_lexer": "ipython3",
   "version": "3.10.16"
  }
 },
 "nbformat": 4,
 "nbformat_minor": 2
}
