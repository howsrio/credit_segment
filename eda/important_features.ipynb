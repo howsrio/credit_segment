{
 "cells": [
  {
   "cell_type": "markdown",
   "metadata": {},
   "source": [
    "['최종카드론이용경과월',\n",
    " '최대이용금액_CA_R12M',\n",
    " 'RV약정청구율',\n",
    " '이용금액_오프라인_R6M',\n",
    " '카드이용한도금액_B1M',\n",
    " '이용금액_CA_R12M',\n",
    " '이용건수_신용_R3M',\n",
    " '최초카드론이용경과월',\n",
    " '이용금액_R3M_신용_가족',\n",
    " '카드이용한도금액',\n",
    " '이용금액_CA_R3M',\n",
    " '정상청구원금_B5M',\n",
    " '연체일자_B0M',\n",
    " '_1순위카드이용금액',\n",
    " 'rv최초시작후경과일',\n",
    " '평잔_3M',\n",
    " '청구금액_R3M',\n",
    " '청구금액_R6M',\n",
    " '할부건수_6M_R12M',\n",
    " 'RV신청일자',\n",
    " '쇼핑_기타_이용금액',\n",
    " '카드이용한도금액_B2M',\n",
    " '최종카드론_대출일자',\n",
    " '정상청구원금_B0M']"
   ]
  },
  {
   "cell_type": "code",
   "execution_count": 1,
   "metadata": {},
   "outputs": [
    {
     "name": "stdout",
     "output_type": "stream",
     "text": [
      "c:\\Users\\erich\\Desktop\\HYU\\신용카드 고객 세그먼트 분류 공모전\\eda\n"
     ]
    }
   ],
   "source": [
    "import os\n",
    "import gc\n",
    "\n",
    "import pandas as pd\n",
    "import numpy as np\n",
    "\n",
    "import sys\n",
    "sys.path.append(\"..\")\n",
    "\n",
    "from plot import plot_segment_grid\n",
    "\n",
    "print(os.getcwd())"
   ]
  },
  {
   "cell_type": "code",
   "execution_count": null,
   "metadata": {},
   "outputs": [],
   "source": [
    "marketings = []\n",
    "\n",
    "months = [7, 8, 9, 10, 11, 12]\n",
    "\n",
    "for month in months:\n",
    "    # train = pd.read_parquet(f\"../data/train/1.회원정보/2018{month:02}_train_회원정보.parquet\")\n",
    "    # test = pd.read_parquet(f\"../data/test/1.회원정보/2018{month:02}_test_회원정보.parquet\")\n",
    "    # customers.append(pd.concat([train, test], ignore_index=True))\n",
    "    \n",
    "    temp = pd.read_parquet(f\"../../data/train/7.마케팅정보/2018{month:02}_train_마케팅정보.parquet\")\n",
    "    temp[\"Segment\"] = segment\n",
    "    marketings.append(temp)\n",
    "\n",
    "del temp\n",
    "gc.collect()"
   ]
  }
 ],
 "metadata": {
  "kernelspec": {
   "display_name": "CustomerSegment",
   "language": "python",
   "name": "python3"
  },
  "language_info": {
   "codemirror_mode": {
    "name": "ipython",
    "version": 3
   },
   "file_extension": ".py",
   "mimetype": "text/x-python",
   "name": "python",
   "nbconvert_exporter": "python",
   "pygments_lexer": "ipython3",
   "version": "3.10.16"
  }
 },
 "nbformat": 4,
 "nbformat_minor": 2
}
